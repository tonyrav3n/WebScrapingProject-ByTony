{
 "cells": [
  {
   "cell_type": "code",
   "id": "2f47a5c0-cefa-4305-b98d-71824c68105c",
   "metadata": {
    "ExecuteTime": {
     "end_time": "2024-12-16T23:38:07.757588Z",
     "start_time": "2024-12-16T23:38:07.745057Z"
    }
   },
   "source": [
    "\n",
    "import requests"
   ],
   "outputs": [],
   "execution_count": 216
  },
  {
   "metadata": {
    "ExecuteTime": {
     "end_time": "2024-12-16T23:38:07.794159Z",
     "start_time": "2024-12-16T23:38:07.773492Z"
    }
   },
   "cell_type": "code",
   "source": "topics_url = \"https://github.com/topics\"",
   "id": "150f26c38961a90",
   "outputs": [],
   "execution_count": 217
  },
  {
   "metadata": {
    "ExecuteTime": {
     "end_time": "2024-12-16T23:38:08.913525Z",
     "start_time": "2024-12-16T23:38:07.915892Z"
    }
   },
   "cell_type": "code",
   "source": "response = requests.get(topics_url)",
   "id": "754c772d9f6ac331",
   "outputs": [],
   "execution_count": 218
  },
  {
   "metadata": {
    "ExecuteTime": {
     "end_time": "2024-12-16T23:38:08.947727Z",
     "start_time": "2024-12-16T23:38:08.930765Z"
    }
   },
   "cell_type": "code",
   "source": "response.status_code",
   "id": "ec952931e18bec40",
   "outputs": [
    {
     "data": {
      "text/plain": [
       "200"
      ]
     },
     "execution_count": 219,
     "metadata": {},
     "output_type": "execute_result"
    }
   ],
   "execution_count": 219
  },
  {
   "metadata": {
    "ExecuteTime": {
     "end_time": "2024-12-17T00:45:20.408736Z",
     "start_time": "2024-12-17T00:45:20.399368Z"
    }
   },
   "cell_type": "code",
   "source": "page_contents = response.text",
   "id": "fb833d5815de1c60",
   "outputs": [],
   "execution_count": 312
  },
  {
   "metadata": {
    "ExecuteTime": {
     "end_time": "2024-12-17T00:45:09.694770Z",
     "start_time": "2024-12-17T00:45:09.680150Z"
    }
   },
   "cell_type": "code",
   "source": "len(page_contents)",
   "id": "20869228b570d080",
   "outputs": [
    {
     "data": {
      "text/plain": [
       "519658"
      ]
     },
     "execution_count": 310,
     "metadata": {},
     "output_type": "execute_result"
    }
   ],
   "execution_count": 310
  },
  {
   "metadata": {
    "ExecuteTime": {
     "end_time": "2024-12-16T23:38:09.171548Z",
     "start_time": "2024-12-16T23:38:09.166574Z"
    }
   },
   "cell_type": "code",
   "source": "page_contents[:1000]",
   "id": "e92643f3e605e3bd",
   "outputs": [
    {
     "data": {
      "text/plain": [
       "'\\n\\n<!DOCTYPE html>\\n<html\\n  lang=\"en\"\\n  \\n  data-color-mode=\"auto\" data-light-theme=\"light\" data-dark-theme=\"dark\"\\n  data-a11y-animated-images=\"system\" data-a11y-link-underlines=\"true\"\\n  \\n  >\\n\\n\\n\\n  <head>\\n    <meta charset=\"utf-8\">\\n  <link rel=\"dns-prefetch\" href=\"https://github.githubassets.com\">\\n  <link rel=\"dns-prefetch\" href=\"https://avatars.githubusercontent.com\">\\n  <link rel=\"dns-prefetch\" href=\"https://github-cloud.s3.amazonaws.com\">\\n  <link rel=\"dns-prefetch\" href=\"https://user-images.githubusercontent.com/\">\\n  <link rel=\"preconnect\" href=\"https://github.githubassets.com\" crossorigin>\\n  <link rel=\"preconnect\" href=\"https://avatars.githubusercontent.com\">\\n\\n  \\n\\n  <link crossorigin=\"anonymous\" media=\"all\" rel=\"stylesheet\" href=\"https://github.githubassets.com/assets/light-0cfd1fd8509e.css\" /><link crossorigin=\"anonymous\" media=\"all\" rel=\"stylesheet\" href=\"https://github.githubassets.com/assets/dark-d782f59290e2.css\" /><link data-color-theme=\"dark_dimmed\" crossorigin=\"anonymous\" media='"
      ]
     },
     "execution_count": 222,
     "metadata": {},
     "output_type": "execute_result"
    }
   ],
   "execution_count": 222
  },
  {
   "metadata": {
    "ExecuteTime": {
     "end_time": "2024-12-16T23:38:09.223899Z",
     "start_time": "2024-12-16T23:38:09.219151Z"
    }
   },
   "cell_type": "code",
   "source": [
    "with open('webpage.html', 'w') as f:\n",
    "    f.write(page_contents)"
   ],
   "id": "6f8127db0bb826e7",
   "outputs": [],
   "execution_count": 223
  },
  {
   "metadata": {
    "ExecuteTime": {
     "end_time": "2024-12-16T23:38:09.277151Z",
     "start_time": "2024-12-16T23:38:09.273960Z"
    }
   },
   "cell_type": "code",
   "source": "from bs4 import BeautifulSoup",
   "id": "742a3de589586288",
   "outputs": [],
   "execution_count": 224
  },
  {
   "metadata": {
    "ExecuteTime": {
     "end_time": "2024-12-16T23:38:09.386519Z",
     "start_time": "2024-12-16T23:38:09.321864Z"
    }
   },
   "cell_type": "code",
   "source": "doc = BeautifulSoup(page_contents, 'html.parser')",
   "id": "4659b8fc05025528",
   "outputs": [],
   "execution_count": 225
  },
  {
   "metadata": {
    "ExecuteTime": {
     "end_time": "2024-12-16T23:38:09.439355Z",
     "start_time": "2024-12-16T23:38:09.433108Z"
    }
   },
   "cell_type": "code",
   "source": [
    "topic_selector = \"f3 lh-condensed mb-0 mt-1 Link--primary\"\n",
    "topic_tags = doc.find_all('p', {'class': topic_selector})"
   ],
   "id": "88bddc0905144f5c",
   "outputs": [],
   "execution_count": 226
  },
  {
   "metadata": {
    "ExecuteTime": {
     "end_time": "2024-12-16T23:38:09.501035Z",
     "start_time": "2024-12-16T23:38:09.495845Z"
    }
   },
   "cell_type": "code",
   "source": "topic_tags[:5]",
   "id": "6460992d056c9ccb",
   "outputs": [
    {
     "data": {
      "text/plain": [
       "[<p class=\"f3 lh-condensed mb-0 mt-1 Link--primary\">3D</p>,\n",
       " <p class=\"f3 lh-condensed mb-0 mt-1 Link--primary\">Ajax</p>,\n",
       " <p class=\"f3 lh-condensed mb-0 mt-1 Link--primary\">Algorithm</p>,\n",
       " <p class=\"f3 lh-condensed mb-0 mt-1 Link--primary\">Amp</p>,\n",
       " <p class=\"f3 lh-condensed mb-0 mt-1 Link--primary\">Android</p>]"
      ]
     },
     "execution_count": 227,
     "metadata": {},
     "output_type": "execute_result"
    }
   ],
   "execution_count": 227
  },
  {
   "metadata": {
    "ExecuteTime": {
     "end_time": "2024-12-16T23:38:09.567914Z",
     "start_time": "2024-12-16T23:38:09.559183Z"
    }
   },
   "cell_type": "code",
   "source": [
    "desc_selector = \"f5 color-fg-muted mb-0 mt-1\"\n",
    "desc_tags = doc.find_all('p', {'class': desc_selector})"
   ],
   "id": "8b3716cb188100ea",
   "outputs": [],
   "execution_count": 228
  },
  {
   "metadata": {
    "ExecuteTime": {
     "end_time": "2024-12-16T23:38:09.629167Z",
     "start_time": "2024-12-16T23:38:09.619371Z"
    }
   },
   "cell_type": "code",
   "source": "desc_tags[:5]",
   "id": "4796484e25dc7357",
   "outputs": [
    {
     "data": {
      "text/plain": [
       "[<p class=\"f5 color-fg-muted mb-0 mt-1\">\n",
       "           3D refers to the use of three-dimensional graphics, modeling, and animation in various industries.\n",
       "         </p>,\n",
       " <p class=\"f5 color-fg-muted mb-0 mt-1\">\n",
       "           Ajax is a technique for creating interactive web applications.\n",
       "         </p>,\n",
       " <p class=\"f5 color-fg-muted mb-0 mt-1\">\n",
       "           Algorithms are self-contained sequences that carry out a variety of tasks.\n",
       "         </p>,\n",
       " <p class=\"f5 color-fg-muted mb-0 mt-1\">\n",
       "           Amp is a non-blocking concurrency library for PHP.\n",
       "         </p>,\n",
       " <p class=\"f5 color-fg-muted mb-0 mt-1\">\n",
       "           Android is an operating system built by Google designed for mobile devices.\n",
       "         </p>]"
      ]
     },
     "execution_count": 229,
     "metadata": {},
     "output_type": "execute_result"
    }
   ],
   "execution_count": 229
  },
  {
   "metadata": {
    "ExecuteTime": {
     "end_time": "2024-12-16T23:38:09.708392Z",
     "start_time": "2024-12-16T23:38:09.701033Z"
    }
   },
   "cell_type": "code",
   "source": [
    "link_selector = \"no-underline flex-1 d-flex flex-column\"\n",
    "link_tags = doc.find_all('a', {'class': link_selector})"
   ],
   "id": "26b020f83923d40c",
   "outputs": [],
   "execution_count": 230
  },
  {
   "metadata": {
    "ExecuteTime": {
     "end_time": "2024-12-16T23:38:09.768374Z",
     "start_time": "2024-12-16T23:38:09.761429Z"
    }
   },
   "cell_type": "code",
   "source": "link_tags[:5]",
   "id": "d7fbfb67f9e43e84",
   "outputs": [
    {
     "data": {
      "text/plain": [
       "[<a class=\"no-underline flex-1 d-flex flex-column\" href=\"/topics/3d\">\n",
       " <p class=\"f3 lh-condensed mb-0 mt-1 Link--primary\">3D</p>\n",
       " <p class=\"f5 color-fg-muted mb-0 mt-1\">\n",
       "           3D refers to the use of three-dimensional graphics, modeling, and animation in various industries.\n",
       "         </p>\n",
       " </a>,\n",
       " <a class=\"no-underline flex-1 d-flex flex-column\" href=\"/topics/ajax\">\n",
       " <p class=\"f3 lh-condensed mb-0 mt-1 Link--primary\">Ajax</p>\n",
       " <p class=\"f5 color-fg-muted mb-0 mt-1\">\n",
       "           Ajax is a technique for creating interactive web applications.\n",
       "         </p>\n",
       " </a>,\n",
       " <a class=\"no-underline flex-1 d-flex flex-column\" href=\"/topics/algorithm\">\n",
       " <p class=\"f3 lh-condensed mb-0 mt-1 Link--primary\">Algorithm</p>\n",
       " <p class=\"f5 color-fg-muted mb-0 mt-1\">\n",
       "           Algorithms are self-contained sequences that carry out a variety of tasks.\n",
       "         </p>\n",
       " </a>,\n",
       " <a class=\"no-underline flex-1 d-flex flex-column\" href=\"/topics/amphp\">\n",
       " <p class=\"f3 lh-condensed mb-0 mt-1 Link--primary\">Amp</p>\n",
       " <p class=\"f5 color-fg-muted mb-0 mt-1\">\n",
       "           Amp is a non-blocking concurrency library for PHP.\n",
       "         </p>\n",
       " </a>,\n",
       " <a class=\"no-underline flex-1 d-flex flex-column\" href=\"/topics/android\">\n",
       " <p class=\"f3 lh-condensed mb-0 mt-1 Link--primary\">Android</p>\n",
       " <p class=\"f5 color-fg-muted mb-0 mt-1\">\n",
       "           Android is an operating system built by Google designed for mobile devices.\n",
       "         </p>\n",
       " </a>]"
      ]
     },
     "execution_count": 231,
     "metadata": {},
     "output_type": "execute_result"
    }
   ],
   "execution_count": 231
  },
  {
   "metadata": {
    "ExecuteTime": {
     "end_time": "2024-12-16T23:38:09.832080Z",
     "start_time": "2024-12-16T23:38:09.826356Z"
    }
   },
   "cell_type": "code",
   "source": "link_tags[0][\"href\"]",
   "id": "1e914469feb1a6c4",
   "outputs": [
    {
     "data": {
      "text/plain": [
       "'/topics/3d'"
      ]
     },
     "execution_count": 232,
     "metadata": {},
     "output_type": "execute_result"
    }
   ],
   "execution_count": 232
  },
  {
   "metadata": {
    "ExecuteTime": {
     "end_time": "2024-12-16T23:38:09.885667Z",
     "start_time": "2024-12-16T23:38:09.878425Z"
    }
   },
   "cell_type": "code",
   "source": [
    "topics = []\n",
    "for tag in topic_tags:\n",
    "    topics.append(tag.text)\n",
    "topics[:5]"
   ],
   "id": "2e72b430e579ddfc",
   "outputs": [
    {
     "data": {
      "text/plain": [
       "['3D', 'Ajax', 'Algorithm', 'Amp', 'Android']"
      ]
     },
     "execution_count": 233,
     "metadata": {},
     "output_type": "execute_result"
    }
   ],
   "execution_count": 233
  },
  {
   "metadata": {
    "ExecuteTime": {
     "end_time": "2024-12-16T23:38:10.069762Z",
     "start_time": "2024-12-16T23:38:10.062654Z"
    }
   },
   "cell_type": "code",
   "source": [
    "descriptions = []\n",
    "for tag in desc_tags:\n",
    "    descriptions.append(tag.text.strip())\n",
    "descriptions[:5]"
   ],
   "id": "d47cb7b0c5120d1b",
   "outputs": [
    {
     "data": {
      "text/plain": [
       "['3D refers to the use of three-dimensional graphics, modeling, and animation in various industries.',\n",
       " 'Ajax is a technique for creating interactive web applications.',\n",
       " 'Algorithms are self-contained sequences that carry out a variety of tasks.',\n",
       " 'Amp is a non-blocking concurrency library for PHP.',\n",
       " 'Android is an operating system built by Google designed for mobile devices.']"
      ]
     },
     "execution_count": 234,
     "metadata": {},
     "output_type": "execute_result"
    }
   ],
   "execution_count": 234
  },
  {
   "metadata": {
    "ExecuteTime": {
     "end_time": "2024-12-16T23:38:10.137131Z",
     "start_time": "2024-12-16T23:38:10.127688Z"
    }
   },
   "cell_type": "code",
   "source": [
    "base = \"https://github.com\"\n",
    "links = []\n",
    "for tag in link_tags:\n",
    "    links.append(base + tag.get('href').strip())\n",
    "links[:5]"
   ],
   "id": "dc54a0570cc6f496",
   "outputs": [
    {
     "data": {
      "text/plain": [
       "['https://github.com/topics/3d',\n",
       " 'https://github.com/topics/ajax',\n",
       " 'https://github.com/topics/algorithm',\n",
       " 'https://github.com/topics/amphp',\n",
       " 'https://github.com/topics/android']"
      ]
     },
     "execution_count": 235,
     "metadata": {},
     "output_type": "execute_result"
    }
   ],
   "execution_count": 235
  },
  {
   "metadata": {
    "ExecuteTime": {
     "end_time": "2024-12-16T23:38:10.200095Z",
     "start_time": "2024-12-16T23:38:10.195706Z"
    }
   },
   "cell_type": "code",
   "source": "import pandas as pd",
   "id": "402ac722a97768b5",
   "outputs": [],
   "execution_count": 236
  },
  {
   "metadata": {
    "ExecuteTime": {
     "end_time": "2024-12-16T23:38:10.254504Z",
     "start_time": "2024-12-16T23:38:10.250857Z"
    }
   },
   "cell_type": "code",
   "source": [
    "topics_dict = {\n",
    "    \"title\"      : topics,\n",
    "    \"description\": descriptions,\n",
    "    \"url\"        : links\n",
    "    }"
   ],
   "id": "f249f38fb26d5aed",
   "outputs": [],
   "execution_count": 237
  },
  {
   "metadata": {
    "ExecuteTime": {
     "end_time": "2024-12-16T23:38:10.319401Z",
     "start_time": "2024-12-16T23:38:10.306019Z"
    }
   },
   "cell_type": "code",
   "source": [
    "topics_df = pd.DataFrame(topics_dict)\n",
    "topics_df.head()"
   ],
   "id": "7811ecd03c11e878",
   "outputs": [
    {
     "data": {
      "text/plain": [
       "       title                                        description  \\\n",
       "0         3D  3D refers to the use of three-dimensional grap...   \n",
       "1       Ajax  Ajax is a technique for creating interactive w...   \n",
       "2  Algorithm  Algorithms are self-contained sequences that c...   \n",
       "3        Amp  Amp is a non-blocking concurrency library for ...   \n",
       "4    Android  Android is an operating system built by Google...   \n",
       "\n",
       "                                   url  \n",
       "0         https://github.com/topics/3d  \n",
       "1       https://github.com/topics/ajax  \n",
       "2  https://github.com/topics/algorithm  \n",
       "3      https://github.com/topics/amphp  \n",
       "4    https://github.com/topics/android  "
      ],
      "text/html": [
       "<div>\n",
       "<style scoped>\n",
       "    .dataframe tbody tr th:only-of-type {\n",
       "        vertical-align: middle;\n",
       "    }\n",
       "\n",
       "    .dataframe tbody tr th {\n",
       "        vertical-align: top;\n",
       "    }\n",
       "\n",
       "    .dataframe thead th {\n",
       "        text-align: right;\n",
       "    }\n",
       "</style>\n",
       "<table border=\"1\" class=\"dataframe\">\n",
       "  <thead>\n",
       "    <tr style=\"text-align: right;\">\n",
       "      <th></th>\n",
       "      <th>title</th>\n",
       "      <th>description</th>\n",
       "      <th>url</th>\n",
       "    </tr>\n",
       "  </thead>\n",
       "  <tbody>\n",
       "    <tr>\n",
       "      <th>0</th>\n",
       "      <td>3D</td>\n",
       "      <td>3D refers to the use of three-dimensional grap...</td>\n",
       "      <td>https://github.com/topics/3d</td>\n",
       "    </tr>\n",
       "    <tr>\n",
       "      <th>1</th>\n",
       "      <td>Ajax</td>\n",
       "      <td>Ajax is a technique for creating interactive w...</td>\n",
       "      <td>https://github.com/topics/ajax</td>\n",
       "    </tr>\n",
       "    <tr>\n",
       "      <th>2</th>\n",
       "      <td>Algorithm</td>\n",
       "      <td>Algorithms are self-contained sequences that c...</td>\n",
       "      <td>https://github.com/topics/algorithm</td>\n",
       "    </tr>\n",
       "    <tr>\n",
       "      <th>3</th>\n",
       "      <td>Amp</td>\n",
       "      <td>Amp is a non-blocking concurrency library for ...</td>\n",
       "      <td>https://github.com/topics/amphp</td>\n",
       "    </tr>\n",
       "    <tr>\n",
       "      <th>4</th>\n",
       "      <td>Android</td>\n",
       "      <td>Android is an operating system built by Google...</td>\n",
       "      <td>https://github.com/topics/android</td>\n",
       "    </tr>\n",
       "  </tbody>\n",
       "</table>\n",
       "</div>"
      ]
     },
     "execution_count": 238,
     "metadata": {},
     "output_type": "execute_result"
    }
   ],
   "execution_count": 238
  },
  {
   "metadata": {
    "ExecuteTime": {
     "end_time": "2024-12-16T23:38:10.413469Z",
     "start_time": "2024-12-16T23:38:10.407789Z"
    }
   },
   "cell_type": "code",
   "source": "topics_df.to_csv(\"topics.csv\", index=False)",
   "id": "cd534d8beba3b923",
   "outputs": [],
   "execution_count": 239
  },
  {
   "metadata": {
    "ExecuteTime": {
     "end_time": "2024-12-16T23:45:12.800438Z",
     "start_time": "2024-12-16T23:45:12.796486Z"
    }
   },
   "cell_type": "code",
   "source": "link = links[0]",
   "id": "3d73ec247d1598eb",
   "outputs": [],
   "execution_count": 262
  },
  {
   "metadata": {},
   "cell_type": "code",
   "outputs": [],
   "execution_count": null,
   "source": "",
   "id": "30f63a8f2a8ba45d"
  },
  {
   "metadata": {
    "ExecuteTime": {
     "end_time": "2024-12-16T23:45:16.433228Z",
     "start_time": "2024-12-16T23:45:16.422176Z"
    }
   },
   "cell_type": "code",
   "source": "link",
   "id": "cadbd7b12a25d15a",
   "outputs": [
    {
     "data": {
      "text/plain": [
       "'https://github.com/topics/3d'"
      ]
     },
     "execution_count": 263,
     "metadata": {},
     "output_type": "execute_result"
    }
   ],
   "execution_count": 263
  },
  {
   "metadata": {
    "ExecuteTime": {
     "end_time": "2024-12-16T23:45:28.336382Z",
     "start_time": "2024-12-16T23:45:21.209361Z"
    }
   },
   "cell_type": "code",
   "source": "response = requests.get(link)",
   "id": "a580159f37fd9be5",
   "outputs": [],
   "execution_count": 264
  },
  {
   "metadata": {
    "ExecuteTime": {
     "end_time": "2024-12-16T23:45:31.129230Z",
     "start_time": "2024-12-16T23:45:31.121448Z"
    }
   },
   "cell_type": "code",
   "source": "response.status_code",
   "id": "6f9fe3ba82f1ac0c",
   "outputs": [
    {
     "data": {
      "text/plain": [
       "200"
      ]
     },
     "execution_count": 265,
     "metadata": {},
     "output_type": "execute_result"
    }
   ],
   "execution_count": 265
  },
  {
   "metadata": {
    "ExecuteTime": {
     "end_time": "2024-12-16T23:45:33.834632Z",
     "start_time": "2024-12-16T23:45:33.813761Z"
    }
   },
   "cell_type": "code",
   "source": "len(response.text)",
   "id": "5947b9b3913baadb",
   "outputs": [
    {
     "data": {
      "text/plain": [
       "519632"
      ]
     },
     "execution_count": 266,
     "metadata": {},
     "output_type": "execute_result"
    }
   ],
   "execution_count": 266
  },
  {
   "metadata": {
    "ExecuteTime": {
     "end_time": "2024-12-16T23:45:39.886149Z",
     "start_time": "2024-12-16T23:45:39.727929Z"
    }
   },
   "cell_type": "code",
   "source": "topic_doc = BeautifulSoup(response.text, 'html.parser')\n",
   "id": "5090bcc4c56f0c8d",
   "outputs": [],
   "execution_count": 267
  },
  {
   "metadata": {
    "ExecuteTime": {
     "end_time": "2024-12-16T23:45:39.905695Z",
     "start_time": "2024-12-16T23:45:39.893492Z"
    }
   },
   "cell_type": "code",
   "source": [
    "repo_selector = \"f3 color-fg-muted text-normal lh-condensed\"\n",
    "repo_tags = topic_doc.find_all('h3', {'class': repo_selector})"
   ],
   "id": "32eb75b28ceb64b4",
   "outputs": [],
   "execution_count": 268
  },
  {
   "metadata": {
    "ExecuteTime": {
     "end_time": "2024-12-17T00:08:49.005622Z",
     "start_time": "2024-12-17T00:08:48.997499Z"
    }
   },
   "cell_type": "code",
   "source": "len(repo_tags)",
   "id": "d12865d964977854",
   "outputs": [
    {
     "data": {
      "text/plain": [
       "20"
      ]
     },
     "execution_count": 286,
     "metadata": {},
     "output_type": "execute_result"
    }
   ],
   "execution_count": 286
  },
  {
   "metadata": {
    "ExecuteTime": {
     "end_time": "2024-12-17T00:08:54.540818Z",
     "start_time": "2024-12-17T00:08:54.535236Z"
    }
   },
   "cell_type": "code",
   "source": "a_tags = repo_tags[0].find_all('a')",
   "id": "f01f36c7de4c77cf",
   "outputs": [],
   "execution_count": 287
  },
  {
   "metadata": {},
   "cell_type": "code",
   "outputs": [],
   "execution_count": null,
   "source": "",
   "id": "509074af8e70d03b"
  },
  {
   "metadata": {
    "ExecuteTime": {
     "end_time": "2024-12-16T23:45:40.280692Z",
     "start_time": "2024-12-16T23:45:40.275428Z"
    }
   },
   "cell_type": "code",
   "source": "a_tags",
   "id": "b52927a67557005d",
   "outputs": [
    {
     "data": {
      "text/plain": [
       "[<a class=\"Link\" data-hydro-click='{\"event_type\":\"explore.click\",\"payload\":{\"click_context\":\"REPOSITORY_CARD\",\"click_target\":\"OWNER\",\"click_visual_representation\":\"REPOSITORY_OWNER_HEADING\",\"actor_id\":null,\"record_id\":97088,\"originating_url\":\"https://github.com/topics/3d\",\"user_id\":null}}' data-hydro-click-hmac=\"c72fbd5c69a8ee7c9c53a4e65de2b93c8fc7552dd793945819639bc165c0f0ba\" data-turbo=\"false\" data-view-component=\"true\" href=\"/mrdoob\">mrdoob</a>,\n",
       " <a class=\"Link text-bold wb-break-word\" data-hydro-click='{\"event_type\":\"explore.click\",\"payload\":{\"click_context\":\"REPOSITORY_CARD\",\"click_target\":\"REPOSITORY\",\"click_visual_representation\":\"REPOSITORY_NAME_HEADING\",\"actor_id\":null,\"record_id\":576201,\"originating_url\":\"https://github.com/topics/3d\",\"user_id\":null}}' data-hydro-click-hmac=\"4a2667db3d63a1739c412e059e5da95afe419df83f70949b5d59dc3478f5c79a\" data-turbo=\"false\" data-view-component=\"true\" href=\"/mrdoob/three.js\">three.js</a>]"
      ]
     },
     "execution_count": 271,
     "metadata": {},
     "output_type": "execute_result"
    }
   ],
   "execution_count": 271
  },
  {
   "metadata": {
    "ExecuteTime": {
     "end_time": "2024-12-16T23:45:40.398637Z",
     "start_time": "2024-12-16T23:45:40.393813Z"
    }
   },
   "cell_type": "code",
   "source": "a_tags[0].text.strip()",
   "id": "ffbc64bec47c9304",
   "outputs": [
    {
     "data": {
      "text/plain": [
       "'mrdoob'"
      ]
     },
     "execution_count": 272,
     "metadata": {},
     "output_type": "execute_result"
    }
   ],
   "execution_count": 272
  },
  {
   "metadata": {
    "ExecuteTime": {
     "end_time": "2024-12-16T23:45:40.508828Z",
     "start_time": "2024-12-16T23:45:40.501485Z"
    }
   },
   "cell_type": "code",
   "source": "a_tags[1].text.strip()",
   "id": "510ba34a17e7fac",
   "outputs": [
    {
     "data": {
      "text/plain": [
       "'three.js'"
      ]
     },
     "execution_count": 273,
     "metadata": {},
     "output_type": "execute_result"
    }
   ],
   "execution_count": 273
  },
  {
   "metadata": {
    "ExecuteTime": {
     "end_time": "2024-12-16T23:45:40.632039Z",
     "start_time": "2024-12-16T23:45:40.625120Z"
    }
   },
   "cell_type": "code",
   "source": "a_tags[1][\"href\"]",
   "id": "30fc93906e335231",
   "outputs": [
    {
     "data": {
      "text/plain": [
       "'/mrdoob/three.js'"
      ]
     },
     "execution_count": 274,
     "metadata": {},
     "output_type": "execute_result"
    }
   ],
   "execution_count": 274
  },
  {
   "metadata": {
    "ExecuteTime": {
     "end_time": "2024-12-16T23:45:40.750160Z",
     "start_time": "2024-12-16T23:45:40.744668Z"
    }
   },
   "cell_type": "code",
   "source": [
    "base_url = \"https://github.com\"\n",
    "repo_url = base_url + a_tags[1].get(\"href\")\n",
    "repo_url"
   ],
   "id": "bfda81b47563987c",
   "outputs": [
    {
     "data": {
      "text/plain": [
       "'https://github.com/mrdoob/three.js'"
      ]
     },
     "execution_count": 275,
     "metadata": {},
     "output_type": "execute_result"
    }
   ],
   "execution_count": 275
  },
  {
   "metadata": {
    "ExecuteTime": {
     "end_time": "2024-12-16T23:45:40.871012Z",
     "start_time": "2024-12-16T23:45:40.859269Z"
    }
   },
   "cell_type": "code",
   "source": [
    "star_selector = \"Counter js-social-count\"\n",
    "star_tags = topic_doc.find_all('span', {'class': star_selector})"
   ],
   "id": "873548cad1e635b1",
   "outputs": [],
   "execution_count": 276
  },
  {
   "metadata": {
    "ExecuteTime": {
     "end_time": "2024-12-16T23:46:08.606097Z",
     "start_time": "2024-12-16T23:46:08.598852Z"
    }
   },
   "cell_type": "code",
   "source": "len(star_tags)",
   "id": "9376dd5e85cf0e9e",
   "outputs": [
    {
     "data": {
      "text/plain": [
       "20"
      ]
     },
     "execution_count": 277,
     "metadata": {},
     "output_type": "execute_result"
    }
   ],
   "execution_count": 277
  },
  {
   "metadata": {
    "ExecuteTime": {
     "end_time": "2024-12-16T23:46:27.431363Z",
     "start_time": "2024-12-16T23:46:27.418467Z"
    }
   },
   "cell_type": "code",
   "source": "star_tags[0].text.strip()",
   "id": "f4f6735fe463994f",
   "outputs": [
    {
     "data": {
      "text/plain": [
       "'103k'"
      ]
     },
     "execution_count": 278,
     "metadata": {},
     "output_type": "execute_result"
    }
   ],
   "execution_count": 278
  },
  {
   "metadata": {
    "ExecuteTime": {
     "end_time": "2024-12-16T23:57:22.819175Z",
     "start_time": "2024-12-16T23:57:22.798523Z"
    }
   },
   "cell_type": "code",
   "source": [
    "def parse_star_count(stars):\n",
    "    suffix_multipliers = {\n",
    "        'k': 1_000,  # Thousand\n",
    "        'm': 1_000_000,  # Million\n",
    "        'b': 1_000_000_000  # Billion\n",
    "        }\n",
    "    stars = stars.strip().lower()\n",
    "    multiplier = 1\n",
    "    if stars[-1] in suffix_multipliers:\n",
    "        multiplier = suffix_multipliers[stars[-1]]\n",
    "        stars = stars[:-1]\n",
    "\n",
    "    try:\n",
    "        return int(float(stars) * multiplier)\n",
    "    except ValueError:\n",
    "        raise ValueError(f\"Invalid format: {stars}\")"
   ],
   "id": "8a50e411122af0a2",
   "outputs": [],
   "execution_count": 279
  },
  {
   "metadata": {
    "ExecuteTime": {
     "end_time": "2024-12-16T23:57:34.591302Z",
     "start_time": "2024-12-16T23:57:34.585387Z"
    }
   },
   "cell_type": "code",
   "source": "parse_star_count(star_tags[0].text.strip())",
   "id": "75a4741c08c173ff",
   "outputs": [
    {
     "data": {
      "text/plain": [
       "103000"
      ]
     },
     "execution_count": 280,
     "metadata": {},
     "output_type": "execute_result"
    }
   ],
   "execution_count": 280
  },
  {
   "metadata": {
    "ExecuteTime": {
     "end_time": "2024-12-17T00:10:10.078595Z",
     "start_time": "2024-12-17T00:10:10.072115Z"
    }
   },
   "cell_type": "code",
   "source": [
    "def get_repo_info(repo_tag, star_tag):\n",
    "    a_tags = repo_tag.find_all('a')\n",
    "    username = a_tags[0].text.strip()\n",
    "    repo_name = a_tags[1].text.strip()\n",
    "    repo_url = base_url + a_tags[1].get(\"href\")\n",
    "    stars = parse_star_count(star_tag.text.strip())\n",
    "    return username, repo_name, stars, repo_url"
   ],
   "id": "506b54b0608da0d9",
   "outputs": [],
   "execution_count": 292
  },
  {
   "metadata": {
    "ExecuteTime": {
     "end_time": "2024-12-17T00:10:14.958520Z",
     "start_time": "2024-12-17T00:10:14.952019Z"
    }
   },
   "cell_type": "code",
   "source": "get_repo_info(repo_tags[0], star_tags[0])",
   "id": "fc4d766c2e6db8b7",
   "outputs": [
    {
     "data": {
      "text/plain": [
       "('mrdoob', 'three.js', 103000, 'https://github.com/mrdoob/three.js')"
      ]
     },
     "execution_count": 293,
     "metadata": {},
     "output_type": "execute_result"
    }
   ],
   "execution_count": 293
  },
  {
   "metadata": {
    "ExecuteTime": {
     "end_time": "2024-12-17T00:13:44.087669Z",
     "start_time": "2024-12-17T00:13:44.076906Z"
    }
   },
   "cell_type": "code",
   "source": [
    "repo_dict = {\n",
    "    \"username\" : [],\n",
    "    \"repo_name\": [],\n",
    "    \"stars\"    : [],\n",
    "    \"repo_url\" : []\n",
    "    }\n",
    "\n",
    "for i in range(len(repo_tags)):\n",
    "    repo_info = get_repo_info(repo_tags[i], star_tags[i])\n",
    "    repo_dict[\"username\"].append(repo_info[0])\n",
    "    repo_dict[\"repo_name\"].append(repo_info[1])\n",
    "    repo_dict[\"stars\"].append(repo_info[2])\n",
    "    repo_dict[\"repo_url\"].append(repo_info[3])"
   ],
   "id": "587eb47da778e613",
   "outputs": [],
   "execution_count": 294
  },
  {
   "metadata": {
    "ExecuteTime": {
     "end_time": "2024-12-17T00:14:07.139114Z",
     "start_time": "2024-12-17T00:14:07.131006Z"
    }
   },
   "cell_type": "code",
   "source": "repo_dict",
   "id": "c95b393dfc847e04",
   "outputs": [
    {
     "data": {
      "text/plain": [
       "{'username': ['mrdoob',\n",
       "  'pmndrs',\n",
       "  'libgdx',\n",
       "  'BabylonJS',\n",
       "  'FreeCAD',\n",
       "  'ssloy',\n",
       "  'lettier',\n",
       "  'aframevr',\n",
       "  'blender',\n",
       "  'CesiumGS',\n",
       "  '4ian',\n",
       "  'MonoGame',\n",
       "  'isl-org',\n",
       "  'mapbox',\n",
       "  'metafizzy',\n",
       "  'timzhang642',\n",
       "  'nerfstudio-project',\n",
       "  'cocos',\n",
       "  'domlysz',\n",
       "  'FyroxEngine'],\n",
       " 'repo_name': ['three.js',\n",
       "  'react-three-fiber',\n",
       "  'libgdx',\n",
       "  'Babylon.js',\n",
       "  'FreeCAD',\n",
       "  'tinyrenderer',\n",
       "  '3d-game-shaders-for-beginners',\n",
       "  'aframe',\n",
       "  'blender',\n",
       "  'cesium',\n",
       "  'GDevelop',\n",
       "  'MonoGame',\n",
       "  'Open3D',\n",
       "  'mapbox-gl-js',\n",
       "  'zdog',\n",
       "  '3D-Machine-Learning',\n",
       "  'nerfstudio',\n",
       "  'cocos-engine',\n",
       "  'BlenderGIS',\n",
       "  'Fyrox'],\n",
       " 'stars': [103000,\n",
       "  27800,\n",
       "  23500,\n",
       "  23400,\n",
       "  21900,\n",
       "  20800,\n",
       "  18100,\n",
       "  16700,\n",
       "  13600,\n",
       "  13100,\n",
       "  11900,\n",
       "  11600,\n",
       "  11600,\n",
       "  11300,\n",
       "  10400,\n",
       "  9800,\n",
       "  9700,\n",
       "  8900,\n",
       "  7900,\n",
       "  7800],\n",
       " 'repo_url': ['https://github.com/mrdoob/three.js',\n",
       "  'https://github.com/pmndrs/react-three-fiber',\n",
       "  'https://github.com/libgdx/libgdx',\n",
       "  'https://github.com/BabylonJS/Babylon.js',\n",
       "  'https://github.com/FreeCAD/FreeCAD',\n",
       "  'https://github.com/ssloy/tinyrenderer',\n",
       "  'https://github.com/lettier/3d-game-shaders-for-beginners',\n",
       "  'https://github.com/aframevr/aframe',\n",
       "  'https://github.com/blender/blender',\n",
       "  'https://github.com/CesiumGS/cesium',\n",
       "  'https://github.com/4ian/GDevelop',\n",
       "  'https://github.com/MonoGame/MonoGame',\n",
       "  'https://github.com/isl-org/Open3D',\n",
       "  'https://github.com/mapbox/mapbox-gl-js',\n",
       "  'https://github.com/metafizzy/zdog',\n",
       "  'https://github.com/timzhang642/3D-Machine-Learning',\n",
       "  'https://github.com/nerfstudio-project/nerfstudio',\n",
       "  'https://github.com/cocos/cocos-engine',\n",
       "  'https://github.com/domlysz/BlenderGIS',\n",
       "  'https://github.com/FyroxEngine/Fyrox']}"
      ]
     },
     "execution_count": 295,
     "metadata": {},
     "output_type": "execute_result"
    }
   ],
   "execution_count": 295
  },
  {
   "metadata": {
    "ExecuteTime": {
     "end_time": "2024-12-17T00:15:07.696513Z",
     "start_time": "2024-12-17T00:15:07.677368Z"
    }
   },
   "cell_type": "code",
   "source": [
    "repos_df = pd.DataFrame(repo_dict)\n",
    "repos_df"
   ],
   "id": "dca7d814ff63a7c",
   "outputs": [
    {
     "data": {
      "text/plain": [
       "              username                      repo_name   stars  \\\n",
       "0               mrdoob                       three.js  103000   \n",
       "1               pmndrs              react-three-fiber   27800   \n",
       "2               libgdx                         libgdx   23500   \n",
       "3            BabylonJS                     Babylon.js   23400   \n",
       "4              FreeCAD                        FreeCAD   21900   \n",
       "5                ssloy                   tinyrenderer   20800   \n",
       "6              lettier  3d-game-shaders-for-beginners   18100   \n",
       "7             aframevr                         aframe   16700   \n",
       "8              blender                        blender   13600   \n",
       "9             CesiumGS                         cesium   13100   \n",
       "10                4ian                       GDevelop   11900   \n",
       "11            MonoGame                       MonoGame   11600   \n",
       "12             isl-org                         Open3D   11600   \n",
       "13              mapbox                   mapbox-gl-js   11300   \n",
       "14           metafizzy                           zdog   10400   \n",
       "15         timzhang642            3D-Machine-Learning    9800   \n",
       "16  nerfstudio-project                     nerfstudio    9700   \n",
       "17               cocos                   cocos-engine    8900   \n",
       "18             domlysz                     BlenderGIS    7900   \n",
       "19         FyroxEngine                          Fyrox    7800   \n",
       "\n",
       "                                             repo_url  \n",
       "0                  https://github.com/mrdoob/three.js  \n",
       "1         https://github.com/pmndrs/react-three-fiber  \n",
       "2                    https://github.com/libgdx/libgdx  \n",
       "3             https://github.com/BabylonJS/Babylon.js  \n",
       "4                  https://github.com/FreeCAD/FreeCAD  \n",
       "5               https://github.com/ssloy/tinyrenderer  \n",
       "6   https://github.com/lettier/3d-game-shaders-for...  \n",
       "7                  https://github.com/aframevr/aframe  \n",
       "8                  https://github.com/blender/blender  \n",
       "9                  https://github.com/CesiumGS/cesium  \n",
       "10                   https://github.com/4ian/GDevelop  \n",
       "11               https://github.com/MonoGame/MonoGame  \n",
       "12                  https://github.com/isl-org/Open3D  \n",
       "13             https://github.com/mapbox/mapbox-gl-js  \n",
       "14                  https://github.com/metafizzy/zdog  \n",
       "15  https://github.com/timzhang642/3D-Machine-Lear...  \n",
       "16   https://github.com/nerfstudio-project/nerfstudio  \n",
       "17              https://github.com/cocos/cocos-engine  \n",
       "18              https://github.com/domlysz/BlenderGIS  \n",
       "19               https://github.com/FyroxEngine/Fyrox  "
      ],
      "text/html": [
       "<div>\n",
       "<style scoped>\n",
       "    .dataframe tbody tr th:only-of-type {\n",
       "        vertical-align: middle;\n",
       "    }\n",
       "\n",
       "    .dataframe tbody tr th {\n",
       "        vertical-align: top;\n",
       "    }\n",
       "\n",
       "    .dataframe thead th {\n",
       "        text-align: right;\n",
       "    }\n",
       "</style>\n",
       "<table border=\"1\" class=\"dataframe\">\n",
       "  <thead>\n",
       "    <tr style=\"text-align: right;\">\n",
       "      <th></th>\n",
       "      <th>username</th>\n",
       "      <th>repo_name</th>\n",
       "      <th>stars</th>\n",
       "      <th>repo_url</th>\n",
       "    </tr>\n",
       "  </thead>\n",
       "  <tbody>\n",
       "    <tr>\n",
       "      <th>0</th>\n",
       "      <td>mrdoob</td>\n",
       "      <td>three.js</td>\n",
       "      <td>103000</td>\n",
       "      <td>https://github.com/mrdoob/three.js</td>\n",
       "    </tr>\n",
       "    <tr>\n",
       "      <th>1</th>\n",
       "      <td>pmndrs</td>\n",
       "      <td>react-three-fiber</td>\n",
       "      <td>27800</td>\n",
       "      <td>https://github.com/pmndrs/react-three-fiber</td>\n",
       "    </tr>\n",
       "    <tr>\n",
       "      <th>2</th>\n",
       "      <td>libgdx</td>\n",
       "      <td>libgdx</td>\n",
       "      <td>23500</td>\n",
       "      <td>https://github.com/libgdx/libgdx</td>\n",
       "    </tr>\n",
       "    <tr>\n",
       "      <th>3</th>\n",
       "      <td>BabylonJS</td>\n",
       "      <td>Babylon.js</td>\n",
       "      <td>23400</td>\n",
       "      <td>https://github.com/BabylonJS/Babylon.js</td>\n",
       "    </tr>\n",
       "    <tr>\n",
       "      <th>4</th>\n",
       "      <td>FreeCAD</td>\n",
       "      <td>FreeCAD</td>\n",
       "      <td>21900</td>\n",
       "      <td>https://github.com/FreeCAD/FreeCAD</td>\n",
       "    </tr>\n",
       "    <tr>\n",
       "      <th>5</th>\n",
       "      <td>ssloy</td>\n",
       "      <td>tinyrenderer</td>\n",
       "      <td>20800</td>\n",
       "      <td>https://github.com/ssloy/tinyrenderer</td>\n",
       "    </tr>\n",
       "    <tr>\n",
       "      <th>6</th>\n",
       "      <td>lettier</td>\n",
       "      <td>3d-game-shaders-for-beginners</td>\n",
       "      <td>18100</td>\n",
       "      <td>https://github.com/lettier/3d-game-shaders-for...</td>\n",
       "    </tr>\n",
       "    <tr>\n",
       "      <th>7</th>\n",
       "      <td>aframevr</td>\n",
       "      <td>aframe</td>\n",
       "      <td>16700</td>\n",
       "      <td>https://github.com/aframevr/aframe</td>\n",
       "    </tr>\n",
       "    <tr>\n",
       "      <th>8</th>\n",
       "      <td>blender</td>\n",
       "      <td>blender</td>\n",
       "      <td>13600</td>\n",
       "      <td>https://github.com/blender/blender</td>\n",
       "    </tr>\n",
       "    <tr>\n",
       "      <th>9</th>\n",
       "      <td>CesiumGS</td>\n",
       "      <td>cesium</td>\n",
       "      <td>13100</td>\n",
       "      <td>https://github.com/CesiumGS/cesium</td>\n",
       "    </tr>\n",
       "    <tr>\n",
       "      <th>10</th>\n",
       "      <td>4ian</td>\n",
       "      <td>GDevelop</td>\n",
       "      <td>11900</td>\n",
       "      <td>https://github.com/4ian/GDevelop</td>\n",
       "    </tr>\n",
       "    <tr>\n",
       "      <th>11</th>\n",
       "      <td>MonoGame</td>\n",
       "      <td>MonoGame</td>\n",
       "      <td>11600</td>\n",
       "      <td>https://github.com/MonoGame/MonoGame</td>\n",
       "    </tr>\n",
       "    <tr>\n",
       "      <th>12</th>\n",
       "      <td>isl-org</td>\n",
       "      <td>Open3D</td>\n",
       "      <td>11600</td>\n",
       "      <td>https://github.com/isl-org/Open3D</td>\n",
       "    </tr>\n",
       "    <tr>\n",
       "      <th>13</th>\n",
       "      <td>mapbox</td>\n",
       "      <td>mapbox-gl-js</td>\n",
       "      <td>11300</td>\n",
       "      <td>https://github.com/mapbox/mapbox-gl-js</td>\n",
       "    </tr>\n",
       "    <tr>\n",
       "      <th>14</th>\n",
       "      <td>metafizzy</td>\n",
       "      <td>zdog</td>\n",
       "      <td>10400</td>\n",
       "      <td>https://github.com/metafizzy/zdog</td>\n",
       "    </tr>\n",
       "    <tr>\n",
       "      <th>15</th>\n",
       "      <td>timzhang642</td>\n",
       "      <td>3D-Machine-Learning</td>\n",
       "      <td>9800</td>\n",
       "      <td>https://github.com/timzhang642/3D-Machine-Lear...</td>\n",
       "    </tr>\n",
       "    <tr>\n",
       "      <th>16</th>\n",
       "      <td>nerfstudio-project</td>\n",
       "      <td>nerfstudio</td>\n",
       "      <td>9700</td>\n",
       "      <td>https://github.com/nerfstudio-project/nerfstudio</td>\n",
       "    </tr>\n",
       "    <tr>\n",
       "      <th>17</th>\n",
       "      <td>cocos</td>\n",
       "      <td>cocos-engine</td>\n",
       "      <td>8900</td>\n",
       "      <td>https://github.com/cocos/cocos-engine</td>\n",
       "    </tr>\n",
       "    <tr>\n",
       "      <th>18</th>\n",
       "      <td>domlysz</td>\n",
       "      <td>BlenderGIS</td>\n",
       "      <td>7900</td>\n",
       "      <td>https://github.com/domlysz/BlenderGIS</td>\n",
       "    </tr>\n",
       "    <tr>\n",
       "      <th>19</th>\n",
       "      <td>FyroxEngine</td>\n",
       "      <td>Fyrox</td>\n",
       "      <td>7800</td>\n",
       "      <td>https://github.com/FyroxEngine/Fyrox</td>\n",
       "    </tr>\n",
       "  </tbody>\n",
       "</table>\n",
       "</div>"
      ]
     },
     "execution_count": 298,
     "metadata": {},
     "output_type": "execute_result"
    }
   ],
   "execution_count": 298
  },
  {
   "metadata": {
    "ExecuteTime": {
     "end_time": "2024-12-17T00:31:27.057228Z",
     "start_time": "2024-12-17T00:31:27.043110Z"
    }
   },
   "cell_type": "code",
   "source": [
    "def get_repo_info(repo_tag, star_tag):\n",
    "    a_tags = repo_tag.find_all('a')\n",
    "    username = a_tags[0].text.strip()\n",
    "    repo_name = a_tags[1].text.strip()\n",
    "    repo_url = base_url + a_tags[1].get(\"href\")\n",
    "    stars = parse_star_count(star_tag.text.strip())\n",
    "    return username, repo_name, stars, repo_url\n",
    "\n",
    "\n",
    "def get_topics_info(topics_url):\n",
    "    response = requests.get(topics_url)\n",
    "\n",
    "    if response.status_code != 200:\n",
    "        raise Exception(f\"Failed to load page {topics_url}\")\n",
    "\n",
    "    topic_doc = BeautifulSoup(response.text, 'html.parser')\n",
    "\n",
    "    repo_selector = \"f3 color-fg-muted text-normal lh-condensed\"\n",
    "    repo_tags = topic_doc.find_all('h3', {'class': repo_selector})\n",
    "    star_selector = \"Counter js-social-count\"\n",
    "    star_tags = topic_doc.find_all('span', {'class': star_selector})\n",
    "\n",
    "    repo_dict = {\n",
    "        \"username\" : [],\n",
    "        \"repo_name\": [],\n",
    "        \"stars\"    : [],\n",
    "        \"repo_url\" : []\n",
    "        }\n",
    "\n",
    "    for i in range(len(repo_tags)):\n",
    "        repo_info = get_repo_info(repo_tags[i], star_tags[i])\n",
    "        repo_dict[\"username\"].append(repo_info[0])\n",
    "        repo_dict[\"repo_name\"].append(repo_info[1])\n",
    "        repo_dict[\"stars\"].append(repo_info[2])\n",
    "        repo_dict[\"repo_url\"].append(repo_info[3])\n",
    "\n",
    "    return pd.DataFrame(repo_dict)"
   ],
   "id": "54483fb7a692c1b7",
   "outputs": [],
   "execution_count": 305
  },
  {
   "metadata": {
    "ExecuteTime": {
     "end_time": "2024-12-17T00:33:41.425733Z",
     "start_time": "2024-12-17T00:33:28.766987Z"
    }
   },
   "cell_type": "code",
   "source": "get_topics_info(links[3])",
   "id": "d53d886d46521311",
   "outputs": [
    {
     "data": {
      "text/plain": [
       "           username           repo_name  stars  \\\n",
       "0             amphp                 amp   4300   \n",
       "1             danog       MadelineProto   2900   \n",
       "2             amphp            parallel    794   \n",
       "3          unreal4u        telegram-api    793   \n",
       "4             amphp         http-client    708   \n",
       "5             amphp         byte-stream    371   \n",
       "6             amphp               mysql    360   \n",
       "7   php-service-bus         service-bus    348   \n",
       "8             amphp  parallel-functions    271   \n",
       "9         xtrime-ru         TelegramRSS    250   \n",
       "10            amphp              socket    237   \n",
       "11            amphp             process    234   \n",
       "12            amphp                sync    165   \n",
       "13            amphp                 dns    165   \n",
       "14            amphp               redis    158   \n",
       "15            amphp    websocket-client    147   \n",
       "16          kelunik                acme    121   \n",
       "17            amphp       serialization    115   \n",
       "18            amphp    websocket-server    114   \n",
       "19            amphp               cache    105   \n",
       "\n",
       "                                          repo_url  \n",
       "0                     https://github.com/amphp/amp  \n",
       "1           https://github.com/danog/MadelineProto  \n",
       "2                https://github.com/amphp/parallel  \n",
       "3         https://github.com/unreal4u/telegram-api  \n",
       "4             https://github.com/amphp/http-client  \n",
       "5             https://github.com/amphp/byte-stream  \n",
       "6                   https://github.com/amphp/mysql  \n",
       "7   https://github.com/php-service-bus/service-bus  \n",
       "8      https://github.com/amphp/parallel-functions  \n",
       "9         https://github.com/xtrime-ru/TelegramRSS  \n",
       "10                 https://github.com/amphp/socket  \n",
       "11                https://github.com/amphp/process  \n",
       "12                   https://github.com/amphp/sync  \n",
       "13                    https://github.com/amphp/dns  \n",
       "14                  https://github.com/amphp/redis  \n",
       "15       https://github.com/amphp/websocket-client  \n",
       "16                 https://github.com/kelunik/acme  \n",
       "17          https://github.com/amphp/serialization  \n",
       "18       https://github.com/amphp/websocket-server  \n",
       "19                  https://github.com/amphp/cache  "
      ],
      "text/html": [
       "<div>\n",
       "<style scoped>\n",
       "    .dataframe tbody tr th:only-of-type {\n",
       "        vertical-align: middle;\n",
       "    }\n",
       "\n",
       "    .dataframe tbody tr th {\n",
       "        vertical-align: top;\n",
       "    }\n",
       "\n",
       "    .dataframe thead th {\n",
       "        text-align: right;\n",
       "    }\n",
       "</style>\n",
       "<table border=\"1\" class=\"dataframe\">\n",
       "  <thead>\n",
       "    <tr style=\"text-align: right;\">\n",
       "      <th></th>\n",
       "      <th>username</th>\n",
       "      <th>repo_name</th>\n",
       "      <th>stars</th>\n",
       "      <th>repo_url</th>\n",
       "    </tr>\n",
       "  </thead>\n",
       "  <tbody>\n",
       "    <tr>\n",
       "      <th>0</th>\n",
       "      <td>amphp</td>\n",
       "      <td>amp</td>\n",
       "      <td>4300</td>\n",
       "      <td>https://github.com/amphp/amp</td>\n",
       "    </tr>\n",
       "    <tr>\n",
       "      <th>1</th>\n",
       "      <td>danog</td>\n",
       "      <td>MadelineProto</td>\n",
       "      <td>2900</td>\n",
       "      <td>https://github.com/danog/MadelineProto</td>\n",
       "    </tr>\n",
       "    <tr>\n",
       "      <th>2</th>\n",
       "      <td>amphp</td>\n",
       "      <td>parallel</td>\n",
       "      <td>794</td>\n",
       "      <td>https://github.com/amphp/parallel</td>\n",
       "    </tr>\n",
       "    <tr>\n",
       "      <th>3</th>\n",
       "      <td>unreal4u</td>\n",
       "      <td>telegram-api</td>\n",
       "      <td>793</td>\n",
       "      <td>https://github.com/unreal4u/telegram-api</td>\n",
       "    </tr>\n",
       "    <tr>\n",
       "      <th>4</th>\n",
       "      <td>amphp</td>\n",
       "      <td>http-client</td>\n",
       "      <td>708</td>\n",
       "      <td>https://github.com/amphp/http-client</td>\n",
       "    </tr>\n",
       "    <tr>\n",
       "      <th>5</th>\n",
       "      <td>amphp</td>\n",
       "      <td>byte-stream</td>\n",
       "      <td>371</td>\n",
       "      <td>https://github.com/amphp/byte-stream</td>\n",
       "    </tr>\n",
       "    <tr>\n",
       "      <th>6</th>\n",
       "      <td>amphp</td>\n",
       "      <td>mysql</td>\n",
       "      <td>360</td>\n",
       "      <td>https://github.com/amphp/mysql</td>\n",
       "    </tr>\n",
       "    <tr>\n",
       "      <th>7</th>\n",
       "      <td>php-service-bus</td>\n",
       "      <td>service-bus</td>\n",
       "      <td>348</td>\n",
       "      <td>https://github.com/php-service-bus/service-bus</td>\n",
       "    </tr>\n",
       "    <tr>\n",
       "      <th>8</th>\n",
       "      <td>amphp</td>\n",
       "      <td>parallel-functions</td>\n",
       "      <td>271</td>\n",
       "      <td>https://github.com/amphp/parallel-functions</td>\n",
       "    </tr>\n",
       "    <tr>\n",
       "      <th>9</th>\n",
       "      <td>xtrime-ru</td>\n",
       "      <td>TelegramRSS</td>\n",
       "      <td>250</td>\n",
       "      <td>https://github.com/xtrime-ru/TelegramRSS</td>\n",
       "    </tr>\n",
       "    <tr>\n",
       "      <th>10</th>\n",
       "      <td>amphp</td>\n",
       "      <td>socket</td>\n",
       "      <td>237</td>\n",
       "      <td>https://github.com/amphp/socket</td>\n",
       "    </tr>\n",
       "    <tr>\n",
       "      <th>11</th>\n",
       "      <td>amphp</td>\n",
       "      <td>process</td>\n",
       "      <td>234</td>\n",
       "      <td>https://github.com/amphp/process</td>\n",
       "    </tr>\n",
       "    <tr>\n",
       "      <th>12</th>\n",
       "      <td>amphp</td>\n",
       "      <td>sync</td>\n",
       "      <td>165</td>\n",
       "      <td>https://github.com/amphp/sync</td>\n",
       "    </tr>\n",
       "    <tr>\n",
       "      <th>13</th>\n",
       "      <td>amphp</td>\n",
       "      <td>dns</td>\n",
       "      <td>165</td>\n",
       "      <td>https://github.com/amphp/dns</td>\n",
       "    </tr>\n",
       "    <tr>\n",
       "      <th>14</th>\n",
       "      <td>amphp</td>\n",
       "      <td>redis</td>\n",
       "      <td>158</td>\n",
       "      <td>https://github.com/amphp/redis</td>\n",
       "    </tr>\n",
       "    <tr>\n",
       "      <th>15</th>\n",
       "      <td>amphp</td>\n",
       "      <td>websocket-client</td>\n",
       "      <td>147</td>\n",
       "      <td>https://github.com/amphp/websocket-client</td>\n",
       "    </tr>\n",
       "    <tr>\n",
       "      <th>16</th>\n",
       "      <td>kelunik</td>\n",
       "      <td>acme</td>\n",
       "      <td>121</td>\n",
       "      <td>https://github.com/kelunik/acme</td>\n",
       "    </tr>\n",
       "    <tr>\n",
       "      <th>17</th>\n",
       "      <td>amphp</td>\n",
       "      <td>serialization</td>\n",
       "      <td>115</td>\n",
       "      <td>https://github.com/amphp/serialization</td>\n",
       "    </tr>\n",
       "    <tr>\n",
       "      <th>18</th>\n",
       "      <td>amphp</td>\n",
       "      <td>websocket-server</td>\n",
       "      <td>114</td>\n",
       "      <td>https://github.com/amphp/websocket-server</td>\n",
       "    </tr>\n",
       "    <tr>\n",
       "      <th>19</th>\n",
       "      <td>amphp</td>\n",
       "      <td>cache</td>\n",
       "      <td>105</td>\n",
       "      <td>https://github.com/amphp/cache</td>\n",
       "    </tr>\n",
       "  </tbody>\n",
       "</table>\n",
       "</div>"
      ]
     },
     "execution_count": 308,
     "metadata": {},
     "output_type": "execute_result"
    }
   ],
   "execution_count": 308
  }
 ],
 "metadata": {
  "kernelspec": {
   "display_name": "Python 3 (ipykernel)",
   "language": "python",
   "name": "python3"
  },
  "language_info": {
   "codemirror_mode": {
    "name": "ipython",
    "version": 3
   },
   "file_extension": ".py",
   "mimetype": "text/x-python",
   "name": "python",
   "nbconvert_exporter": "python",
   "pygments_lexer": "ipython3",
   "version": "3.12.3"
  }
 },
 "nbformat": 4,
 "nbformat_minor": 5
}
