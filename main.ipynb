{
 "cells": [
  {
   "cell_type": "code",
   "id": "2f47a5c0-cefa-4305-b98d-71824c68105c",
   "metadata": {
    "ExecuteTime": {
     "end_time": "2024-12-16T19:17:28.010587Z",
     "start_time": "2024-12-16T19:17:28.005270Z"
    }
   },
   "source": "import requests",
   "outputs": [],
   "execution_count": 2
  },
  {
   "metadata": {
    "ExecuteTime": {
     "end_time": "2024-12-16T19:19:54.653783Z",
     "start_time": "2024-12-16T19:19:54.646836Z"
    }
   },
   "cell_type": "code",
   "source": "topics_url = \"https://github.com/topics\"",
   "id": "150f26c38961a90",
   "outputs": [],
   "execution_count": 3
  },
  {
   "metadata": {
    "ExecuteTime": {
     "end_time": "2024-12-16T19:20:26.115766Z",
     "start_time": "2024-12-16T19:20:25.049190Z"
    }
   },
   "cell_type": "code",
   "source": "response = requests.get(topics_url)",
   "id": "754c772d9f6ac331",
   "outputs": [],
   "execution_count": 4
  },
  {
   "metadata": {
    "ExecuteTime": {
     "end_time": "2024-12-16T19:20:57.699227Z",
     "start_time": "2024-12-16T19:20:57.666987Z"
    }
   },
   "cell_type": "code",
   "source": "response.status_code",
   "id": "ec952931e18bec40",
   "outputs": [
    {
     "data": {
      "text/plain": [
       "200"
      ]
     },
     "execution_count": 6,
     "metadata": {},
     "output_type": "execute_result"
    }
   ],
   "execution_count": 6
  },
  {
   "metadata": {
    "ExecuteTime": {
     "end_time": "2024-12-16T19:22:53.138475Z",
     "start_time": "2024-12-16T19:22:53.131678Z"
    }
   },
   "cell_type": "code",
   "source": "page_contents = response.text",
   "id": "fb833d5815de1c60",
   "outputs": [],
   "execution_count": 8
  },
  {
   "metadata": {
    "ExecuteTime": {
     "end_time": "2024-12-16T19:22:55.378062Z",
     "start_time": "2024-12-16T19:22:55.370923Z"
    }
   },
   "cell_type": "code",
   "source": "len(page_contents)",
   "id": "20869228b570d080",
   "outputs": [
    {
     "data": {
      "text/plain": [
       "204859"
      ]
     },
     "execution_count": 9,
     "metadata": {},
     "output_type": "execute_result"
    }
   ],
   "execution_count": 9
  },
  {
   "metadata": {
    "ExecuteTime": {
     "end_time": "2024-12-16T19:23:07.314013Z",
     "start_time": "2024-12-16T19:23:07.303458Z"
    }
   },
   "cell_type": "code",
   "source": "page_contents[:1000]",
   "id": "e92643f3e605e3bd",
   "outputs": [
    {
     "data": {
      "text/plain": [
       "'\\n\\n<!DOCTYPE html>\\n<html\\n  lang=\"en\"\\n  \\n  data-color-mode=\"auto\" data-light-theme=\"light\" data-dark-theme=\"dark\"\\n  data-a11y-animated-images=\"system\" data-a11y-link-underlines=\"true\"\\n  \\n  >\\n\\n\\n\\n  <head>\\n    <meta charset=\"utf-8\">\\n  <link rel=\"dns-prefetch\" href=\"https://github.githubassets.com\">\\n  <link rel=\"dns-prefetch\" href=\"https://avatars.githubusercontent.com\">\\n  <link rel=\"dns-prefetch\" href=\"https://github-cloud.s3.amazonaws.com\">\\n  <link rel=\"dns-prefetch\" href=\"https://user-images.githubusercontent.com/\">\\n  <link rel=\"preconnect\" href=\"https://github.githubassets.com\" crossorigin>\\n  <link rel=\"preconnect\" href=\"https://avatars.githubusercontent.com\">\\n\\n  \\n\\n  <link crossorigin=\"anonymous\" media=\"all\" rel=\"stylesheet\" href=\"https://github.githubassets.com/assets/light-0cfd1fd8509e.css\" /><link crossorigin=\"anonymous\" media=\"all\" rel=\"stylesheet\" href=\"https://github.githubassets.com/assets/dark-d782f59290e2.css\" /><link data-color-theme=\"dark_dimmed\" crossorigin=\"anonymous\" media='"
      ]
     },
     "execution_count": 10,
     "metadata": {},
     "output_type": "execute_result"
    }
   ],
   "execution_count": 10
  },
  {
   "metadata": {
    "ExecuteTime": {
     "end_time": "2024-12-16T19:25:45.521523Z",
     "start_time": "2024-12-16T19:25:45.505747Z"
    }
   },
   "cell_type": "code",
   "source": [
    "with open('webpage.html', 'w') as f:\n",
    "    f.write(page_contents)"
   ],
   "id": "6f8127db0bb826e7",
   "outputs": [],
   "execution_count": 11
  },
  {
   "metadata": {
    "ExecuteTime": {
     "end_time": "2024-12-16T19:27:11.926191Z",
     "start_time": "2024-12-16T19:27:11.797262Z"
    }
   },
   "cell_type": "code",
   "source": "from bs4 import BeautifulSoup",
   "id": "742a3de589586288",
   "outputs": [],
   "execution_count": 12
  },
  {
   "metadata": {},
   "cell_type": "code",
   "outputs": [],
   "execution_count": null,
   "source": "",
   "id": "4659b8fc05025528"
  },
  {
   "metadata": {},
   "cell_type": "code",
   "outputs": [],
   "execution_count": null,
   "source": "",
   "id": "88bddc0905144f5c"
  },
  {
   "metadata": {},
   "cell_type": "code",
   "outputs": [],
   "execution_count": null,
   "source": "",
   "id": "5db44650f5d72d0"
  },
  {
   "metadata": {},
   "cell_type": "code",
   "outputs": [],
   "execution_count": null,
   "source": "",
   "id": "6460992d056c9ccb"
  },
  {
   "metadata": {},
   "cell_type": "code",
   "outputs": [],
   "execution_count": null,
   "source": "",
   "id": "d93bdef7a58762e9"
  }
 ],
 "metadata": {
  "kernelspec": {
   "display_name": "Python 3 (ipykernel)",
   "language": "python",
   "name": "python3"
  },
  "language_info": {
   "codemirror_mode": {
    "name": "ipython",
    "version": 3
   },
   "file_extension": ".py",
   "mimetype": "text/x-python",
   "name": "python",
   "nbconvert_exporter": "python",
   "pygments_lexer": "ipython3",
   "version": "3.12.3"
  }
 },
 "nbformat": 4,
 "nbformat_minor": 5
}
